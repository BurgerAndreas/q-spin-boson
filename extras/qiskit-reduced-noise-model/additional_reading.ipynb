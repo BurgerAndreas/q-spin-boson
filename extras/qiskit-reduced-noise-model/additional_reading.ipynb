{
 "cells": [
  {
   "cell_type": "code",
   "execution_count": 15,
   "metadata": {},
   "outputs": [],
   "source": [
    "from qiskit.providers.fake_provider import FakeJakarta\n",
    "\n",
    "fake_device = FakeJakarta()"
   ]
  },
  {
   "cell_type": "code",
   "execution_count": 16,
   "metadata": {},
   "outputs": [],
   "source": [
    "# Custom noise models can be build by adding QuantumError and ReadoutError objects to NoiseModels\n",
    "# https://qiskit.org/documentation/tutorials/simulators/3_building_noise_models.html\n",
    "# https://qiskit.org/documentation/apidoc/aer_noise.html\n",
    "\n",
    "from qiskit.providers.aer.noise import NoiseModel, ReadoutError, QuantumError\n",
    "from qiskit.providers.aer.noise.errors import thermal_relaxation_error, depolarizing_error\n",
    "\n",
    "# Noise Model\n",
    "my_noise_model = NoiseModel(basis_gates=NoiseModel.from_backend(fake_device).basis_gates)\n",
    "\n",
    "# Quantum Error\n",
    "my_quantum_error = depolarizing_error(param=0.01, num_qubits=2)\n",
    "#my_quantum_error = QuantumError(...)  # alternative\n",
    "my_noise_model.add_quantum_error(error=my_quantum_error, instructions='cx', qubits=[1, 2])\n",
    "#my_noise_model.add_all_qubit_quantum_error(my_quantum_error, instructions=['cx'])   # alternative\n",
    "\n",
    "# Readout Error\n",
    "my_readout_error = ReadoutError([[1 - 0.1, 0.1], [0.05, 1 - 0.05]])\n",
    "my_noise_model.add_readout_error(error=my_readout_error, qubits=[3])"
   ]
  },
  {
   "cell_type": "code",
   "execution_count": 18,
   "metadata": {},
   "outputs": [
    {
     "name": "stdout",
     "output_type": "stream",
     "text": [
      "[[0.0176, 0.06879999999999997], [0.009199999999999986, 0.0296], [0.0072, 0.034399999999999986], [0.0154, 0.024599999999999955], [0.006199999999999983, 0.0236], [0.017199999999999993, 0.045], [0.0232, 0.0224]]\n"
     ]
    }
   ],
   "source": [
    "# Device error parameters (and it's NoiseModel) can be accessed via it's BackendProperties\n",
    "# https://qiskit.org/documentation/apidoc/aer_noise.html\n",
    "\n",
    "from qiskit.providers.aer.noise.device import thermal_relaxation_values, gate_length_values, gate_error_values, gate_error_values, gate_param_values, readout_error_values\n",
    "from qiskit.providers.aer.noise.device import basic_device_gate_errors, basic_device_readout_errors\n",
    "\n",
    "# Values\n",
    "#print(gate_param_values(fake_device.properties()))  # instruction, id, gate_error, gate_length\n",
    "#print(gate_error_values(fake_device.properties()))\n",
    "#print(gate_length_values(fake_device.properties()))\n",
    "#print(thermal_relaxation_values(fake_device.properties()))\n",
    "print(readout_error_values(fake_device.properties()))\n",
    "\n",
    "# Quantum Error and Readout Error objects\n",
    "#print(basic_device_gate_errors(fake_device.properties())) # QuantumError objects\n",
    "#print(basic_device_readout_errors(fake_device.properties()))  # ReadoutError objects"
   ]
  },
  {
   "cell_type": "code",
   "execution_count": 19,
   "metadata": {},
   "outputs": [
    {
     "name": "stdout",
     "output_type": "stream",
     "text": [
      "['id', 'rz', 'sx', 'x', 'cx', 'reset']\n"
     ]
    }
   ],
   "source": [
    "# Basic information on the devices can be accesed via it's BackendConfiguration\n",
    "# https://qiskit.org/documentation/stubs/qiskit.providers.models.BackendConfiguration.html\n",
    "\n",
    "print(fake_device.configuration().basis_gates)\n",
    "#print(fake_device.configuration().num_qubits)\n",
    "#print(fake_device.configuration().description)\n",
    "#print(fake_device.configuration().coupling_map)"
   ]
  }
 ],
 "metadata": {
  "interpreter": {
   "hash": "57411f4c9e3cea90bf023677fe83f3813d6dab6af8cbc7726dc76a220a60429e"
  },
  "kernelspec": {
   "display_name": "Python 3.10.4 ('qiskit-sf')",
   "language": "python",
   "name": "python3"
  },
  "language_info": {
   "codemirror_mode": {
    "name": "ipython",
    "version": 3
   },
   "file_extension": ".py",
   "mimetype": "text/x-python",
   "name": "python",
   "nbconvert_exporter": "python",
   "pygments_lexer": "ipython3",
   "version": "3.10.4"
  },
  "orig_nbformat": 4
 },
 "nbformat": 4,
 "nbformat_minor": 2
}
