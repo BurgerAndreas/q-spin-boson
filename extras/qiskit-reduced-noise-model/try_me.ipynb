{
 "cells": [
  {
   "cell_type": "code",
   "execution_count": 1,
   "metadata": {},
   "outputs": [
    {
     "name": "stderr",
     "output_type": "stream",
     "text": [
      "/var/folders/w7/2xsmxq1s24513gjxw8bzcb1r0000gn/T/ipykernel_1794/2125078423.py:2: DeprecationWarning: The module 'qiskit.test.mock' is deprecated since Qiskit Terra 0.21.0, and will be removed 3 months or more later. Instead, you should import the desired object directly 'qiskit.providers.fake_provider'.\n",
      "  from qiskit.test.mock import FakeToronto\n"
     ]
    }
   ],
   "source": [
    "from qiskit.providers.aer import AerSimulator\n",
    "from qiskit.providers.fake_provider import FakeToronto\n",
    "from qiskit import QuantumCircuit, transpile\n",
    "from qiskit.visualization import plot_histogram\n",
    "import matplotlib.pyplot as plt\n",
    "\n",
    "from noise_modeling import modified_noise_model"
   ]
  },
  {
   "cell_type": "code",
   "execution_count": 3,
   "metadata": {},
   "outputs": [
    {
     "ename": "IndentationError",
     "evalue": "unindent does not match any outer indentation level (<tokenize>, line 22)",
     "output_type": "error",
     "traceback": [
      "\u001b[0;36m  File \u001b[0;32m<tokenize>:22\u001b[0;36m\u001b[0m\n\u001b[0;31m    \"\"\" Noiseless results \"\"\"\u001b[0m\n\u001b[0m    ^\u001b[0m\n\u001b[0;31mIndentationError\u001b[0m\u001b[0;31m:\u001b[0m unindent does not match any outer indentation level\n"
     ]
    }
   ],
   "source": [
    "def noise_test(reduced_level=0.1):\n",
    "  \"\"\"\n",
    "  Test modified_noise_model() from noise_modeling.py.\n",
    "  Run simulations of a circuit with \n",
    "  (a) no noise (noiseless, ideal)\n",
    "  (b) current IBM device noise levels\n",
    "  (c) reduced noise levels\n",
    "  and compare results.\n",
    "  \n",
    "  reduced_level (float): reduces gate infidelity and readout error \n",
    "  to = reduced_level * current_IBM_device.\n",
    "  (Default: 0.1).\n",
    "  \"\"\"\n",
    "\n",
    "  # Construct a quantum circuit\n",
    "  circ = QuantumCircuit(3, 3)\n",
    "  circ.h(0)\n",
    "  circ.cx(0, 1)\n",
    "  circ.cx(1, 2)\n",
    "  circ.measure([0, 1, 2], [0, 1, 2])\n",
    "\n",
    "  \"\"\" Noiseless results \"\"\"\n",
    "  # Noiseless backend\n",
    "  ideal_backend = AerSimulator()\n",
    "  # Transpile the circuit for the noisy basis gates\n",
    "  tcirc = transpile(circ, ideal_backend)\n",
    "  # Execute noisy simulation and get counts\n",
    "  result_ideal = ideal_backend.run(tcirc).result()\n",
    "  counts_ideal = result_ideal.get_counts(0)\n",
    "  # Plot\n",
    "  plot_histogram(counts_ideal, title=\"Ideal, noiseless counts for 3-qubit GHZ state\")\n",
    "  plt.show()\n",
    "\n",
    "  \"\"\" Noisy results \"\"\"\n",
    "  # Noisy backend\n",
    "  device_backend = FakeToronto()\n",
    "  sim_noisy = AerSimulator.from_backend(device_backend)\n",
    "  # Transpile the circuit for the noisy basis gates\n",
    "  tcirc = transpile(circ, sim_noisy)\n",
    "  # Execute noisy simulation and get counts\n",
    "  result_noise = sim_noisy.run(tcirc).result()\n",
    "  counts_noise = result_noise.get_counts(0)\n",
    "  # Plot\n",
    "  plot_histogram(counts_noise, title=\"Counts for 3-qubit GHZ state with device noise model\")\n",
    "  plt.show()\n",
    "\n",
    "\n",
    "  \"\"\" Reduced noise results \"\"\"\n",
    "  reduced_noise_model = modified_noise_model(_backend=device_backend, gate_error_factor=reduced_level)\n",
    "  sim_reduced_noise = AerSimulator(noise_model=reduced_noise_model)\n",
    "  circ_t = transpile(circ, sim_reduced_noise)\n",
    "  # Run and get reduced_noise counts\n",
    "  result_reduced_noise = sim_reduced_noise.run(circ_t).result()\n",
    "  counts_reduced_noise = result_reduced_noise.get_counts(0)\n",
    "  # Plot\n",
    "  plot_histogram(counts_reduced_noise, title=\"Counts for 3-qubit GHZ state with reduced noise model\")\n",
    "  plt.show()\n",
    "\n",
    "  return counts_ideal, counts_noise, counts_reduced_noise"
   ]
  },
  {
   "cell_type": "code",
   "execution_count": null,
   "metadata": {},
   "outputs": [],
   "source": [
    "_counts_ideal, _counts_noise, _counts_reduced_noise = noise_test(reduced_level=0.1)\n",
    "\n",
    "print('Noiseless, correct counts:\\n', _counts_ideal)\n",
    "print('Noisy, current device counts:\\n', _counts_noise)\n",
    "print('Reduced-noise counts:\\n', _counts_reduced_noise)"
   ]
  }
 ],
 "metadata": {
  "interpreter": {
   "hash": "57411f4c9e3cea90bf023677fe83f3813d6dab6af8cbc7726dc76a220a60429e"
  },
  "kernelspec": {
   "display_name": "Python 3.10.4 ('qiskit-sf')",
   "language": "python",
   "name": "python3"
  },
  "language_info": {
   "codemirror_mode": {
    "name": "ipython",
    "version": 3
   },
   "file_extension": ".py",
   "mimetype": "text/x-python",
   "name": "python",
   "nbconvert_exporter": "python",
   "pygments_lexer": "ipython3",
   "version": "3.10.4"
  },
  "orig_nbformat": 4
 },
 "nbformat": 4,
 "nbformat_minor": 2
}
