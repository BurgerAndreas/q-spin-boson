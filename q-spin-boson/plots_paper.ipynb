{
 "cells": [
  {
   "cell_type": "code",
   "execution_count": 21,
   "metadata": {},
   "outputs": [],
   "source": [
    "from dotenv import load_dotenv, load_ipython_extension\n",
    "import os\n",
    "import matplotlib.pyplot as plt"
   ]
  },
  {
   "cell_type": "code",
   "execution_count": 22,
   "metadata": {},
   "outputs": [],
   "source": [
    "from src.model_spin_boson import SpinBosonSimulation"
   ]
  },
  {
   "cell_type": "code",
   "execution_count": 27,
   "metadata": {},
   "outputs": [
    {
     "name": "stdout",
     "output_type": "stream",
     "text": [
      "q-spin-boson/saved-models/\n"
     ]
    }
   ],
   "source": [
    "DIR_ENV = \"q-spin-boson/settings/paths.env\"\n",
    "load_dotenv(DIR_ENV)\n",
    "# %load_ext dotenv\n",
    "# %dotenv {DIR_ENV}\n",
    "DIR_SAVED_MODELS = os.getenv('DIR_SAVED_MODELS', DIR_ENV)\n",
    "DIR_PLOTS = os.getenv('DIR_PLOTS', DIR_ENV)\n",
    "DIR_PLOTS_CIRCUIT = os.getenv('DIR_PLOTS_CIRCUIT', DIR_ENV)\n",
    "PIC_FILE = os.getenv('PIC_FILE', DIR_ENV)\n",
    "print(DIR_SAVED_MODELS)"
   ]
  },
  {
   "cell_type": "code",
   "execution_count": 28,
   "metadata": {},
   "outputs": [
    {
     "name": "stdout",
     "output_type": "stream",
     "text": [
      "q-spin-boson/saved-models/\n"
     ]
    }
   ],
   "source": [
    "\n",
    "print(f'{DIR_SAVED_MODELS}')"
   ]
  },
  {
   "attachments": {},
   "cell_type": "markdown",
   "metadata": {},
   "source": [
    "Spin-Boson model with a single spin, coupled to an markovian environment"
   ]
  },
  {
   "cell_type": "code",
   "execution_count": 25,
   "metadata": {},
   "outputs": [
    {
     "name": "stdout",
     "output_type": "stream",
     "text": [
      "sb1s_adc_b4_sb1s_g1.00_frstord_sloop_d0.30_e0.10_fake_jakarta\n",
      " Time-step 0.00\n",
      " Time-step 0.30\n",
      " Time-step 0.60\n",
      " Time-step 0.90\n",
      " Time-step 1.20\n",
      " Time-step 1.50\n",
      " Time-step 1.80\n",
      " Time-step 2.10\n"
     ]
    },
    {
     "ename": "FileNotFoundError",
     "evalue": "[Errno 2] No such file or directory: 'q-spin-boson/settings/paths.envsb1s_adc_b4_sb1s_g1.00_frstord_sloop_d0.30_e0.10_fake_jakarta.pickle'",
     "output_type": "error",
     "traceback": [
      "\u001b[0;31m---------------------------------------------------------------------------\u001b[0m",
      "\u001b[0;31mFileNotFoundError\u001b[0m                         Traceback (most recent call last)",
      "Cell \u001b[0;32mIn[25], line 3\u001b[0m\n\u001b[1;32m      1\u001b[0m sim \u001b[39m=\u001b[39m SpinBosonSimulation()\n\u001b[1;32m      2\u001b[0m \u001b[39mprint\u001b[39m(sim\u001b[39m.\u001b[39mname)\n\u001b[0;32m----> 3\u001b[0m sim\u001b[39m.\u001b[39;49mget_simulation()\n",
      "File \u001b[0;32m~/Coding/q-spin-boson/q-spin-boson/src/model_base.py:170\u001b[0m, in \u001b[0;36mSimulation.get_simulation\u001b[0;34m(self)\u001b[0m\n\u001b[1;32m    168\u001b[0m \u001b[39mself\u001b[39m\u001b[39m.\u001b[39mload_status \u001b[39m=\u001b[39m \u001b[39mself\u001b[39m\u001b[39m.\u001b[39mload()\n\u001b[1;32m    169\u001b[0m \u001b[39mif\u001b[39;00m \u001b[39mself\u001b[39m\u001b[39m.\u001b[39mload_status \u001b[39m!=\u001b[39m \u001b[39m200\u001b[39m:\n\u001b[0;32m--> 170\u001b[0m     \u001b[39mself\u001b[39;49m\u001b[39m.\u001b[39;49msimulate_model()\n\u001b[1;32m    171\u001b[0m \u001b[39mreturn\u001b[39;00m \u001b[39mself\u001b[39m\n",
      "File \u001b[0;32m~/Coding/q-spin-boson/q-spin-boson/src/model_base.py:288\u001b[0m, in \u001b[0;36mSimulation.simulate_model\u001b[0;34m(self)\u001b[0m\n\u001b[1;32m    286\u001b[0m \u001b[39mself\u001b[39m\u001b[39m.\u001b[39msimulate_exact_linblad()\n\u001b[1;32m    287\u001b[0m \u001b[39mself\u001b[39m\u001b[39m.\u001b[39mcompare_simulations()\n\u001b[0;32m--> 288\u001b[0m \u001b[39mself\u001b[39m\u001b[39m.\u001b[39mload_status \u001b[39m=\u001b[39m \u001b[39mself\u001b[39;49m\u001b[39m.\u001b[39;49msave()\n\u001b[1;32m    289\u001b[0m \u001b[39mreturn\u001b[39;00m\n",
      "File \u001b[0;32m~/Coding/q-spin-boson/q-spin-boson/src/model_base.py:208\u001b[0m, in \u001b[0;36mSimulation.save\u001b[0;34m(self)\u001b[0m\n\u001b[1;32m    206\u001b[0m \u001b[39mdef\u001b[39;00m \u001b[39msave\u001b[39m(\u001b[39mself\u001b[39m):\n\u001b[1;32m    207\u001b[0m     \u001b[39m# save model\u001b[39;00m\n\u001b[0;32m--> 208\u001b[0m     \u001b[39mwith\u001b[39;00m \u001b[39mopen\u001b[39;49m(\u001b[39mf\u001b[39;49m\u001b[39m'\u001b[39;49m\u001b[39m{\u001b[39;49;00mDIR_SAVED_MODELS\u001b[39m}\u001b[39;49;00m\u001b[39m{\u001b[39;49;00m\u001b[39mself\u001b[39;49m\u001b[39m.\u001b[39;49mname\u001b[39m}\u001b[39;49;00m\u001b[39m.pickle\u001b[39;49m\u001b[39m'\u001b[39;49m, \u001b[39m'\u001b[39;49m\u001b[39mwb\u001b[39;49m\u001b[39m'\u001b[39;49m) \u001b[39mas\u001b[39;00m f:\n\u001b[1;32m    209\u001b[0m         pickle\u001b[39m.\u001b[39mdump(\u001b[39mself\u001b[39m, f, protocol\u001b[39m=\u001b[39mpickle\u001b[39m.\u001b[39mHIGHEST_PROTOCOL)\n\u001b[1;32m    210\u001b[0m     \u001b[39mreturn\u001b[39;00m \u001b[39m201\u001b[39m\n",
      "\u001b[0;31mFileNotFoundError\u001b[0m: [Errno 2] No such file or directory: 'q-spin-boson/settings/paths.envsb1s_adc_b4_sb1s_g1.00_frstord_sloop_d0.30_e0.10_fake_jakarta.pickle'"
     ]
    }
   ],
   "source": [
    "sim = SpinBosonSimulation()\n",
    "print(sim.name)\n",
    "sim.get_simulation()"
   ]
  },
  {
   "attachments": {},
   "cell_type": "markdown",
   "metadata": {},
   "source": [
    "Circuit for one trotter step"
   ]
  },
  {
   "cell_type": "code",
   "execution_count": null,
   "metadata": {},
   "outputs": [],
   "source": [
    "sim.get_gates()\n",
    "# sim.save_layout()\n",
    "# sim.save_circuit_latex()\n",
    "# sim.save_circuit_image()"
   ]
  }
 ],
 "metadata": {
  "kernelspec": {
   "display_name": "qiskit-sf",
   "language": "python",
   "name": "python3"
  },
  "language_info": {
   "codemirror_mode": {
    "name": "ipython",
    "version": 3
   },
   "file_extension": ".py",
   "mimetype": "text/x-python",
   "name": "python",
   "nbconvert_exporter": "python",
   "pygments_lexer": "ipython3",
   "version": "3.10.9"
  },
  "orig_nbformat": 4
 },
 "nbformat": 4,
 "nbformat_minor": 2
}
