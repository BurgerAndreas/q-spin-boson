{
 "cells": [
  {
   "cell_type": "code",
   "execution_count": 1,
   "metadata": {},
   "outputs": [],
   "source": [
    "import matplotlib\n",
    "import matplotlib.pyplot as plt\n",
    "import seaborn as sns\n",
    "import warnings\n",
    "from IPython import display"
   ]
  },
  {
   "cell_type": "code",
   "execution_count": 2,
   "metadata": {},
   "outputs": [
    {
     "ename": "ModuleNotFoundError",
     "evalue": "No module named 'src.model_js'",
     "output_type": "error",
     "traceback": [
      "\u001b[0;31m---------------------------------------------------------------------------\u001b[0m",
      "\u001b[0;31mModuleNotFoundError\u001b[0m                       Traceback (most recent call last)",
      "Cell \u001b[0;32mIn[2], line 5\u001b[0m\n\u001b[1;32m      3\u001b[0m \u001b[39mfrom\u001b[39;00m \u001b[39msrc\u001b[39;00m\u001b[39m.\u001b[39;00m\u001b[39mmodel_twolevel\u001b[39;00m \u001b[39mimport\u001b[39;00m TwoLvlSimulation\n\u001b[1;32m      4\u001b[0m \u001b[39mfrom\u001b[39;00m \u001b[39msrc\u001b[39;00m\u001b[39m.\u001b[39;00m\u001b[39mmodel_jc\u001b[39;00m \u001b[39mimport\u001b[39;00m JCSimulation\n\u001b[0;32m----> 5\u001b[0m \u001b[39mimport\u001b[39;00m \u001b[39msrc\u001b[39;00m\u001b[39m.\u001b[39;00m\u001b[39mplot_simulations\u001b[39;00m \u001b[39mas\u001b[39;00m \u001b[39mplotting\u001b[39;00m\n\u001b[1;32m      6\u001b[0m \u001b[39mimport\u001b[39;00m \u001b[39msrc\u001b[39;00m\u001b[39m.\u001b[39;00m\u001b[39mplot_illustrations\u001b[39;00m \u001b[39mas\u001b[39;00m \u001b[39millustrations\u001b[39;00m\n",
      "File \u001b[0;32m~/Coding/q-spin-boson/q-spin-boson/src/plot_simulations.py:9\u001b[0m\n\u001b[1;32m      7\u001b[0m \u001b[39mfrom\u001b[39;00m \u001b[39msettings\u001b[39;00m\u001b[39m.\u001b[39;00m\u001b[39mtypes\u001b[39;00m \u001b[39mimport\u001b[39;00m Model, Env, H, Axis\n\u001b[1;32m      8\u001b[0m \u001b[39mfrom\u001b[39;00m \u001b[39msrc\u001b[39;00m\u001b[39m.\u001b[39;00m\u001b[39mmodel_base\u001b[39;00m \u001b[39mimport\u001b[39;00m Simulation\n\u001b[0;32m----> 9\u001b[0m \u001b[39mfrom\u001b[39;00m \u001b[39msrc\u001b[39;00m\u001b[39m.\u001b[39;00m\u001b[39mmodel_general\u001b[39;00m \u001b[39mimport\u001b[39;00m simulation\n\u001b[1;32m     11\u001b[0m \u001b[39mfrom\u001b[39;00m \u001b[39msettings\u001b[39;00m\u001b[39m.\u001b[39;00m\u001b[39mplot_styles\u001b[39;00m \u001b[39mimport\u001b[39;00m save_legend_extra, get_blues, \\\n\u001b[1;32m     12\u001b[0m     extended_palette\n\u001b[1;32m     13\u001b[0m \u001b[39mfrom\u001b[39;00m \u001b[39msettings\u001b[39;00m\u001b[39m.\u001b[39;00m\u001b[39mpaths\u001b[39;00m \u001b[39mimport\u001b[39;00m PIC_FILE, DIR_PLOTS\n",
      "File \u001b[0;32m~/Coding/q-spin-boson/q-spin-boson/src/model_general.py:4\u001b[0m\n\u001b[1;32m      2\u001b[0m \u001b[39mfrom\u001b[39;00m \u001b[39msettings\u001b[39;00m\u001b[39m.\u001b[39;00m\u001b[39mparameters\u001b[39;00m \u001b[39mimport\u001b[39;00m Paras\n\u001b[1;32m      3\u001b[0m \u001b[39mfrom\u001b[39;00m \u001b[39msrc\u001b[39;00m\u001b[39m.\u001b[39;00m\u001b[39mmodel_spinboson\u001b[39;00m \u001b[39mimport\u001b[39;00m SSpinBosonSimulation, DSpinBosonSimulation\n\u001b[0;32m----> 4\u001b[0m \u001b[39mfrom\u001b[39;00m \u001b[39msrc\u001b[39;00m\u001b[39m.\u001b[39;00m\u001b[39mmodel_js\u001b[39;00m \u001b[39mimport\u001b[39;00m JCSimulation\n\u001b[1;32m      5\u001b[0m \u001b[39mfrom\u001b[39;00m \u001b[39msrc\u001b[39;00m\u001b[39m.\u001b[39;00m\u001b[39mmodel_twolevel\u001b[39;00m \u001b[39mimport\u001b[39;00m TwoLvlSimulation\n\u001b[1;32m      7\u001b[0m \u001b[39mdef\u001b[39;00m \u001b[39msimulation\u001b[39m(\n\u001b[1;32m      8\u001b[0m         model \u001b[39m=\u001b[39m Model\u001b[39m.\u001b[39mSB1S, \n\u001b[1;32m      9\u001b[0m         n_bos \u001b[39m=\u001b[39m \u001b[39m4\u001b[39m, \n\u001b[0;32m   (...)\u001b[0m\n\u001b[1;32m     19\u001b[0m         initial \u001b[39m=\u001b[39m \u001b[39mNone\u001b[39;00m,\n\u001b[1;32m     20\u001b[0m         optimal_formula \u001b[39m=\u001b[39m \u001b[39mFalse\u001b[39;00m):\n",
      "\u001b[0;31mModuleNotFoundError\u001b[0m: No module named 'src.model_js'"
     ]
    }
   ],
   "source": [
    "from settings.types import Env, Model, H, Enc\n",
    "from src.model_spinboson import SSpinBosonSimulation, DSpinBosonSimulation\n",
    "from src.model_twolevel import TwoLvlSimulation\n",
    "from src.model_jc import JCSimulation\n",
    "import src.plot_simulations as plotting\n",
    "import src.plot_illustrations as illustrations"
   ]
  },
  {
   "cell_type": "code",
   "execution_count": null,
   "metadata": {},
   "outputs": [],
   "source": [
    "# set up matplotlib\n",
    "%matplotlib inline \n",
    "warnings.filterwarnings( \"ignore\", module = \"matplotlib\\..*\" )"
   ]
  },
  {
   "cell_type": "code",
   "execution_count": null,
   "metadata": {},
   "outputs": [],
   "source": [
    "# setup plot styling\n",
    "from settings.plot_styles import set_plot_style\n",
    "set_plot_style()"
   ]
  },
  {
   "attachments": {},
   "cell_type": "markdown",
   "metadata": {},
   "source": [
    "# Paper\n",
    "\n",
    "Here you find the code used to generate the figures in the paper <\\br>\n",
    "'Digital Quantum Simulation of the Spin-Boson Model under Markovian Open-System Dynamics'\n",
    "\n",
    "https://doi.org/10.3390/e24121766"
   ]
  },
  {
   "attachments": {},
   "cell_type": "markdown",
   "metadata": {},
   "source": [
    "### Fig 2, 3: Circuit implementation of the dissipation"
   ]
  },
  {
   "cell_type": "code",
   "execution_count": null,
   "metadata": {},
   "outputs": [
    {
     "name": "stdout",
     "output_type": "stream",
     "text": [
      "    Ry($\\theta$) ┌───┐     \n",
      "s: ──────■───────┤ X ├─────\n",
      "     ┌───┴───┐   └─┬─┘     \n",
      "a: ──┤ Ry(π) ├─────■───|0>─\n",
      "     └───────┘             \n",
      "   ┌────┐     \n",
      "s: ┤0   ├─────\n",
      "   │  D │     \n",
      "a: ┤1   ├─|0>─\n",
      "   └────┘     \n"
     ]
    }
   ],
   "source": [
    "\n",
    "adc_dir, adc_ltx, adc = illustrations.circuit_adc()\n",
    "print(adc)\n",
    "\n",
    "d_dir, d_ltx, d = illustrations.circuit_dissipation()\n",
    "print(d)"
   ]
  },
  {
   "attachments": {},
   "cell_type": "markdown",
   "metadata": {},
   "source": [
    "### Fig 3: Circuit schematic"
   ]
  },
  {
   "cell_type": "code",
   "execution_count": null,
   "metadata": {},
   "outputs": [
    {
     "name": "stdout",
     "output_type": "stream",
     "text": [
      "           ░ ┌────┐      ┌────┐      ┌────┐       ░ ┌───┐\n",
      "b_0: ──────░─┤0   ├──────┤0   ├──────┤0   ├───────░─┤ M ├\n",
      "           ░ │    │      │    │      │    │       ░ ├───┤\n",
      "b_1: ──────░─┤1 U ├──────┤1 U ├──────┤1 U ├───────░─┤ M ├\n",
      "     ┌───┐ ░ │    │┌────┐│    │┌────┐│    │┌────┐ ░ ├───┤\n",
      "  s: ┤ X ├─░─┤2   ├┤0   ├┤2   ├┤0   ├┤2   ├┤0   ├─░─┤ M ├\n",
      "     └───┘ ░ └────┘│  D │└────┘│  D │└────┘│  D │ ░ └───┘\n",
      "  a: ──────░───────┤1   ├─|0>──┤1   ├─|0>──┤1   ├─░──────\n",
      "           ░       └────┘      └────┘      └────┘ ░      \n",
      "                   ┌────┐      ┌────┐      ┌────┐        \n",
      " a1: ──────────────┤0   ├─|0>──┤0   ├─|0>──┤0   ├────────\n",
      "     ┌───┐ ░ ┌────┐│  D │┌────┐│  D │┌────┐│  D │ ░ ┌───┐\n",
      " s1: ┤ X ├─░─┤0   ├┤1   ├┤0   ├┤1   ├┤0   ├┤1   ├─░─┤ M ├\n",
      "     └───┘ ░ │    │└────┘│    │└────┘│    │└────┘ ░ ├───┤\n",
      "b_0: ──────░─┤1   ├──────┤1   ├──────┤1   ├───────░─┤ M ├\n",
      "           ░ │  U │      │  U │      │  U │       ░ ├───┤\n",
      "b_1: ──────░─┤2   ├──────┤2   ├──────┤2   ├───────░─┤ M ├\n",
      "           ░ │    │┌────┐│    │┌────┐│    │┌────┐ ░ ├───┤\n",
      " s2: ──────░─┤3   ├┤0   ├┤3   ├┤0   ├┤3   ├┤0   ├─░─┤ M ├\n",
      "           ░ └────┘│  D │└────┘│  D │└────┘│  D │ ░ └───┘\n",
      " a2: ──────────────┤1   ├─|0>──┤1   ├─|0>──┤1   ├────────\n",
      "                   └────┘      └────┘      └────┘        \n"
     ]
    }
   ],
   "source": [
    "sb1s_dir, sb1s_ltx, sb1s = illustrations.circuit_sb1s()\n",
    "print(sb1s)\n",
    "\n",
    "sb2s_dir, sb2s_ltx, sb2s = illustrations.circuit_sb2s()\n",
    "print(sb2s)"
   ]
  },
  {
   "attachments": {},
   "cell_type": "markdown",
   "metadata": {},
   "source": [
    "### Fig 4: Hamiltonian w/o open system simulation, single-spin Spin-Boson model"
   ]
  },
  {
   "cell_type": "code",
   "execution_count": null,
   "metadata": {},
   "outputs": [
    {
     "ename": "KeyboardInterrupt",
     "evalue": "",
     "output_type": "error",
     "traceback": [
      "\u001b[0;31m---------------------------------------------------------------------------\u001b[0m",
      "\u001b[0;31mKeyboardInterrupt\u001b[0m                         Traceback (most recent call last)",
      "Cell \u001b[0;32mIn[21], line 1\u001b[0m\n\u001b[0;32m----> 1\u001b[0m fig, legend \u001b[39m=\u001b[39m plotting\u001b[39m.\u001b[39;49mplot_ifid_vs_dt_env()\n\u001b[1;32m      2\u001b[0m \u001b[39m# display.Image(fig)\u001b[39;00m\n\u001b[1;32m      3\u001b[0m \u001b[39m# display.Image(legend)\u001b[39;00m\n",
      "File \u001b[0;32m~/Coding/q-spin-boson/q-spin-boson/src/plot_simulations.py:69\u001b[0m, in \u001b[0;36mplot_ifid_vs_dt_env\u001b[0;34m(model, dts)\u001b[0m\n\u001b[1;32m     67\u001b[0m ifid_avg_h_o2\u001b[39m.\u001b[39mappend(np\u001b[39m.\u001b[39mmean(sim\u001b[39m.\u001b[39minfidelity))\n\u001b[1;32m     68\u001b[0m \u001b[39m# Environment\u001b[39;00m\n\u001b[0;32m---> 69\u001b[0m sim \u001b[39m=\u001b[39m simulation(model\u001b[39m=\u001b[39;49mmodel, env\u001b[39m=\u001b[39;49mEnv\u001b[39m.\u001b[39;49mADC, h\u001b[39m=\u001b[39;49mH\u001b[39m.\u001b[39;49mFRSTORD, dt\u001b[39m=\u001b[39;49mdt)\n\u001b[1;32m     70\u001b[0m ifid_avg_env_o1\u001b[39m.\u001b[39mappend(np\u001b[39m.\u001b[39mmean(sim\u001b[39m.\u001b[39minfidelity))\n\u001b[1;32m     71\u001b[0m sim \u001b[39m=\u001b[39m simulation(model\u001b[39m=\u001b[39mmodel, env\u001b[39m=\u001b[39mEnv\u001b[39m.\u001b[39mADC, h\u001b[39m=\u001b[39mH\u001b[39m.\u001b[39mSCNDORD, dt\u001b[39m=\u001b[39mdt)\n",
      "File \u001b[0;32m~/Coding/q-spin-boson/q-spin-boson/src/model_general.py:23\u001b[0m, in \u001b[0;36msimulation\u001b[0;34m(model, n_bos, env, paras, gamma, enc, h, steps, dt, eta, noise, initial, optimal_formula)\u001b[0m\n\u001b[1;32m     21\u001b[0m \u001b[39m\u001b[39m\u001b[39m\"\"\"Get any simulation object.\"\"\"\u001b[39;00m\n\u001b[1;32m     22\u001b[0m \u001b[39mif\u001b[39;00m model \u001b[39min\u001b[39;00m [Model\u001b[39m.\u001b[39mSB1S, Model\u001b[39m.\u001b[39mSB1SJC, Model\u001b[39m.\u001b[39mSB1SPZ]:\n\u001b[0;32m---> 23\u001b[0m     sim \u001b[39m=\u001b[39m SSpinBosonSimulation(\n\u001b[1;32m     24\u001b[0m         model\u001b[39m=\u001b[39;49mmodel, n_bos\u001b[39m=\u001b[39;49mn_bos, env\u001b[39m=\u001b[39;49menv, paras\u001b[39m=\u001b[39;49mparas, gamma\u001b[39m=\u001b[39;49mgamma, \n\u001b[1;32m     25\u001b[0m         enc\u001b[39m=\u001b[39;49menc, h\u001b[39m=\u001b[39;49mh, steps\u001b[39m=\u001b[39;49msteps, dt\u001b[39m=\u001b[39;49mdt, eta\u001b[39m=\u001b[39;49meta, noise\u001b[39m=\u001b[39;49mnoise, \n\u001b[1;32m     26\u001b[0m         initial\u001b[39m=\u001b[39;49minitial, optimal_formula\u001b[39m=\u001b[39;49moptimal_formula\n\u001b[1;32m     27\u001b[0m     )\n\u001b[1;32m     28\u001b[0m \u001b[39melif\u001b[39;00m model \u001b[39m==\u001b[39m Model\u001b[39m.\u001b[39mSB2S:\n\u001b[1;32m     29\u001b[0m     sim \u001b[39m=\u001b[39m DSpinBosonSimulation(\n\u001b[1;32m     30\u001b[0m         model\u001b[39m=\u001b[39mmodel, n_bos\u001b[39m=\u001b[39mn_bos, env\u001b[39m=\u001b[39menv, paras\u001b[39m=\u001b[39mparas, gamma\u001b[39m=\u001b[39mgamma, \n\u001b[1;32m     31\u001b[0m         enc\u001b[39m=\u001b[39menc, h\u001b[39m=\u001b[39mh, steps\u001b[39m=\u001b[39msteps, dt\u001b[39m=\u001b[39mdt, eta\u001b[39m=\u001b[39meta, noise\u001b[39m=\u001b[39mnoise, \n\u001b[1;32m     32\u001b[0m         initial\u001b[39m=\u001b[39minitial, optimal_formula\u001b[39m=\u001b[39moptimal_formula\n\u001b[1;32m     33\u001b[0m     )\n",
      "File \u001b[0;32m~/Coding/q-spin-boson/q-spin-boson/src/model_spinboson.py:61\u001b[0m, in \u001b[0;36mSSpinBosonSimulation.__init__\u001b[0;34m(self, model, n_bos, env, paras, gamma, enc, h, steps, dt, eta, noise, initial, optimal_formula)\u001b[0m\n\u001b[1;32m     59\u001b[0m     \u001b[39mraise\u001b[39;00m \u001b[39mValueError\u001b[39;00m(\u001b[39mf\u001b[39m\u001b[39m\"\u001b[39m\u001b[39mWrong class for model \u001b[39m\u001b[39m{\u001b[39;00m\u001b[39mself\u001b[39m\u001b[39m.\u001b[39mmodel\u001b[39m}\u001b[39;00m\u001b[39m.\u001b[39m\u001b[39m\"\u001b[39m)\n\u001b[1;32m     60\u001b[0m \u001b[39m# ------------------------------------------------------------\u001b[39;00m\n\u001b[0;32m---> 61\u001b[0m \u001b[39mself\u001b[39m\u001b[39m.\u001b[39mset_default_simulation_parameters()\n\u001b[1;32m     62\u001b[0m \u001b[39mif\u001b[39;00m optimal_formula:\n\u001b[1;32m     63\u001b[0m     \u001b[39mself\u001b[39m\u001b[39m.\u001b[39mset_optimal_product_formula()\n",
      "File \u001b[0;32m~/Coding/q-spin-boson/q-spin-boson/src/model_base.py:464\u001b[0m, in \u001b[0;36mset_default_simulation_parameters\u001b[0;34m(self)\u001b[0m\n\u001b[1;32m    461\u001b[0m     \u001b[39mself\u001b[39m\u001b[39m.\u001b[39mnoise_model \u001b[39m=\u001b[39m AerSimulator(\n\u001b[1;32m    462\u001b[0m         noise_model\u001b[39m=\u001b[39mmodified_noise_model(\u001b[39mself\u001b[39m\u001b[39m.\u001b[39mbackend, \u001b[39mself\u001b[39m\u001b[39m.\u001b[39mnoise))\n\u001b[1;32m    463\u001b[0m \u001b[39m# Dimensionality\u001b[39;00m\n\u001b[0;32m--> 464\u001b[0m \u001b[39mself\u001b[39m\u001b[39m.\u001b[39mset_dimensions()\n\u001b[1;32m    465\u001b[0m \u001b[39m# Hamiltonian\u001b[39;00m\n\u001b[1;32m    466\u001b[0m \u001b[39mself\u001b[39m\u001b[39m.\u001b[39mset_hamiltonian()\n",
      "File \u001b[0;32m~/Coding/q-spin-boson/q-spin-boson/src/helpers/noise_modeling.py:211\u001b[0m, in \u001b[0;36mmodified_noise_model\u001b[0;34m(_backend, gate_error_factor, gate_length_factor, readout_error_factor, gate_error, thermal_relaxation, gate_lengths, gate_length_units, temperature, warnings, _relax_info, _thermal_regime_info, _infidelity_ratio_info)\u001b[0m\n\u001b[1;32m    208\u001b[0m         \u001b[39mreturn\u001b[39;00m depol_error\n\u001b[1;32m    209\u001b[0m     \u001b[39m# TODO                \u001b[39;00m\n\u001b[1;32m    210\u001b[0m     \u001b[39melse\u001b[39;00m:\n\u001b[0;32m--> 211\u001b[0m         depol_error \u001b[39m=\u001b[39m _device_depolarizing_error(\n\u001b[1;32m    212\u001b[0m             qubits, error_param, relax_error, warnings\u001b[39m=\u001b[39;49mwarnings)\n\u001b[1;32m    214\u001b[0m \u001b[39m# TODO\u001b[39;00m\n\u001b[1;32m    215\u001b[0m \u001b[39m# add to average\u001b[39;00m\n\u001b[1;32m    216\u001b[0m \u001b[39mif\u001b[39;00m _infidelity_ratio_info:\n",
      "File \u001b[0;32m~/Coding/q-spin-boson/q-spin-boson/src/helpers/noise_modeling.py:353\u001b[0m, in \u001b[0;36m_device_depolarizing_error\u001b[0;34m(qubits, error_param, relax_error, warnings, _relax_info, _infidelity_ratio_info)\u001b[0m\n\u001b[1;32m    351\u001b[0m         \u001b[39mreturn\u001b[39;00m depol_error, depol_infid, relax_infid\n\u001b[1;32m    352\u001b[0m     \u001b[39m# TODO\u001b[39;00m\n\u001b[0;32m--> 353\u001b[0m     \u001b[39mreturn\u001b[39;00m depolarizing_error(\n\u001b[1;32m    354\u001b[0m         depol_param, num_qubits, standard_gates\u001b[39m=\u001b[39;49m\u001b[39mNone\u001b[39;49;00m)\n\u001b[1;32m    355\u001b[0m \u001b[39m# TODO\u001b[39;00m\n\u001b[1;32m    356\u001b[0m \u001b[39m# if error_param < relax_infid:\u001b[39;00m\n\u001b[1;32m    357\u001b[0m \u001b[39m# no depolarizing error\u001b[39;00m\n\u001b[1;32m    358\u001b[0m \u001b[39m# but thermal is kept\u001b[39;00m\n\u001b[1;32m    359\u001b[0m \u001b[39mif\u001b[39;00m _infidelity_ratio_info:\n",
      "File \u001b[0;32m~/opt/anaconda3/envs/qiskit-compatible/lib/python3.10/site-packages/qiskit/providers/aer/noise/errors/standard_errors.py:278\u001b[0m, in \u001b[0;36mdepolarizing_error\u001b[0;34m(param, num_qubits, standard_gates)\u001b[0m\n\u001b[1;32m    275\u001b[0m \u001b[39m# Generate pauli strings. The order doesn't matter as long\u001b[39;00m\n\u001b[1;32m    276\u001b[0m \u001b[39m# as the all identity string is first.\u001b[39;00m\n\u001b[1;32m    277\u001b[0m paulis \u001b[39m=\u001b[39m [Pauli(\u001b[39m\"\u001b[39m\u001b[39m\"\u001b[39m\u001b[39m.\u001b[39mjoin(tup)) \u001b[39mfor\u001b[39;00m tup \u001b[39min\u001b[39;00m it\u001b[39m.\u001b[39mproduct([\u001b[39m'\u001b[39m\u001b[39mI\u001b[39m\u001b[39m'\u001b[39m, \u001b[39m'\u001b[39m\u001b[39mX\u001b[39m\u001b[39m'\u001b[39m, \u001b[39m'\u001b[39m\u001b[39mY\u001b[39m\u001b[39m'\u001b[39m, \u001b[39m'\u001b[39m\u001b[39mZ\u001b[39m\u001b[39m'\u001b[39m], repeat\u001b[39m=\u001b[39mnum_qubits)]\n\u001b[0;32m--> 278\u001b[0m \u001b[39mreturn\u001b[39;00m QuantumError(\u001b[39mzip\u001b[39;49m(paulis, probs))\n",
      "File \u001b[0;32m~/opt/anaconda3/envs/qiskit-compatible/lib/python3.10/site-packages/qiskit/providers/aer/noise/errors/quantum_error.py:196\u001b[0m, in \u001b[0;36mQuantumError.__init__\u001b[0;34m(self, noise_ops, number_of_qubits, standard_gates, atol)\u001b[0m\n\u001b[1;32m    193\u001b[0m \u001b[39mself\u001b[39m\u001b[39m.\u001b[39m_probs \u001b[39m=\u001b[39m \u001b[39mlist\u001b[39m(np\u001b[39m.\u001b[39marray(probs) \u001b[39m/\u001b[39m total_probs)\n\u001b[1;32m    195\u001b[0m \u001b[39m# Convert instructions to circuits\u001b[39;00m\n\u001b[0;32m--> 196\u001b[0m circs \u001b[39m=\u001b[39m [\u001b[39mself\u001b[39m\u001b[39m.\u001b[39m_to_circuit(op) \u001b[39mfor\u001b[39;00m op \u001b[39min\u001b[39;00m ops]\n\u001b[1;32m    198\u001b[0m num_qubits \u001b[39m=\u001b[39m \u001b[39mmax\u001b[39m(qc\u001b[39m.\u001b[39mnum_qubits \u001b[39mfor\u001b[39;00m qc \u001b[39min\u001b[39;00m circs)\n\u001b[1;32m    199\u001b[0m \u001b[39mif\u001b[39;00m number_of_qubits \u001b[39mis\u001b[39;00m \u001b[39mnot\u001b[39;00m \u001b[39mNone\u001b[39;00m:\n",
      "File \u001b[0;32m~/opt/anaconda3/envs/qiskit-compatible/lib/python3.10/site-packages/qiskit/providers/aer/noise/errors/quantum_error.py:196\u001b[0m, in \u001b[0;36m<listcomp>\u001b[0;34m(.0)\u001b[0m\n\u001b[1;32m    193\u001b[0m \u001b[39mself\u001b[39m\u001b[39m.\u001b[39m_probs \u001b[39m=\u001b[39m \u001b[39mlist\u001b[39m(np\u001b[39m.\u001b[39marray(probs) \u001b[39m/\u001b[39m total_probs)\n\u001b[1;32m    195\u001b[0m \u001b[39m# Convert instructions to circuits\u001b[39;00m\n\u001b[0;32m--> 196\u001b[0m circs \u001b[39m=\u001b[39m [\u001b[39mself\u001b[39;49m\u001b[39m.\u001b[39;49m_to_circuit(op) \u001b[39mfor\u001b[39;00m op \u001b[39min\u001b[39;00m ops]\n\u001b[1;32m    198\u001b[0m num_qubits \u001b[39m=\u001b[39m \u001b[39mmax\u001b[39m(qc\u001b[39m.\u001b[39mnum_qubits \u001b[39mfor\u001b[39;00m qc \u001b[39min\u001b[39;00m circs)\n\u001b[1;32m    199\u001b[0m \u001b[39mif\u001b[39;00m number_of_qubits \u001b[39mis\u001b[39;00m \u001b[39mnot\u001b[39;00m \u001b[39mNone\u001b[39;00m:\n",
      "File \u001b[0;32m~/opt/anaconda3/envs/qiskit-compatible/lib/python3.10/site-packages/qiskit/providers/aer/noise/errors/quantum_error.py:248\u001b[0m, in \u001b[0;36mQuantumError._to_circuit\u001b[0;34m(cls, op)\u001b[0m\n\u001b[1;32m    246\u001b[0m \u001b[39mif\u001b[39;00m \u001b[39mhasattr\u001b[39m(op, \u001b[39m'\u001b[39m\u001b[39mto_instruction\u001b[39m\u001b[39m'\u001b[39m):\n\u001b[1;32m    247\u001b[0m     \u001b[39mtry\u001b[39;00m:\n\u001b[0;32m--> 248\u001b[0m         \u001b[39mreturn\u001b[39;00m \u001b[39mcls\u001b[39;49m\u001b[39m.\u001b[39;49m_to_circuit(op\u001b[39m.\u001b[39;49mto_instruction())\n\u001b[1;32m    249\u001b[0m     \u001b[39mexcept\u001b[39;00m QiskitError \u001b[39mas\u001b[39;00m err:\n\u001b[1;32m    250\u001b[0m         \u001b[39mraise\u001b[39;00m NoiseError(\n\u001b[1;32m    251\u001b[0m             \u001b[39mf\u001b[39m\u001b[39m\"\u001b[39m\u001b[39mFail to convert \u001b[39m\u001b[39m{\u001b[39;00mop\u001b[39m.\u001b[39m\u001b[39m__class__\u001b[39m\u001b[39m.\u001b[39m\u001b[39m__name__\u001b[39m\u001b[39m}\u001b[39;00m\u001b[39m to Instruction.\u001b[39m\u001b[39m\"\u001b[39m\n\u001b[1;32m    252\u001b[0m         ) \u001b[39mfrom\u001b[39;00m \u001b[39merr\u001b[39;00m\n",
      "File \u001b[0;32m~/opt/anaconda3/envs/qiskit-compatible/lib/python3.10/site-packages/qiskit/providers/aer/noise/errors/quantum_error.py:233\u001b[0m, in \u001b[0;36mQuantumError._to_circuit\u001b[0;34m(cls, op)\u001b[0m\n\u001b[1;32m    229\u001b[0m \u001b[39mif\u001b[39;00m op\u001b[39m.\u001b[39mnum_clbits \u001b[39m>\u001b[39m \u001b[39m0\u001b[39m:\n\u001b[1;32m    230\u001b[0m     \u001b[39mraise\u001b[39;00m NoiseError(\n\u001b[1;32m    231\u001b[0m         \u001b[39mf\u001b[39m\u001b[39m\"\u001b[39m\u001b[39mUnable to convert instruction with clbits: \u001b[39m\u001b[39m{\u001b[39;00mop\u001b[39m.\u001b[39m\u001b[39m__class__\u001b[39m\u001b[39m.\u001b[39m\u001b[39m__name__\u001b[39m\u001b[39m}\u001b[39;00m\u001b[39m\"\u001b[39m\n\u001b[1;32m    232\u001b[0m     )\n\u001b[0;32m--> 233\u001b[0m circ \u001b[39m=\u001b[39m QuantumCircuit(op\u001b[39m.\u001b[39;49mnum_qubits)\n\u001b[1;32m    234\u001b[0m circ\u001b[39m.\u001b[39mappend(op, qargs\u001b[39m=\u001b[39m\u001b[39mlist\u001b[39m(\u001b[39mrange\u001b[39m(op\u001b[39m.\u001b[39mnum_qubits)))\n\u001b[1;32m    235\u001b[0m \u001b[39mreturn\u001b[39;00m circ\n",
      "File \u001b[0;32m~/opt/anaconda3/envs/qiskit-compatible/lib/python3.10/site-packages/qiskit/circuit/quantumcircuit.py:274\u001b[0m, in \u001b[0;36mQuantumCircuit.__init__\u001b[0;34m(self, name, global_phase, metadata, *regs)\u001b[0m\n\u001b[1;32m    271\u001b[0m \u001b[39mself\u001b[39m\u001b[39m.\u001b[39madd_register(\u001b[39m*\u001b[39mregs)\n\u001b[1;32m    273\u001b[0m \u001b[39m# Parameter table tracks instructions with variable parameters.\u001b[39;00m\n\u001b[0;32m--> 274\u001b[0m \u001b[39mself\u001b[39m\u001b[39m.\u001b[39m_parameter_table \u001b[39m=\u001b[39m ParameterTable()\n\u001b[1;32m    276\u001b[0m \u001b[39m# Cache to avoid re-sorting parameters\u001b[39;00m\n\u001b[1;32m    277\u001b[0m \u001b[39mself\u001b[39m\u001b[39m.\u001b[39m_parameters \u001b[39m=\u001b[39m \u001b[39mNone\u001b[39;00m\n",
      "File \u001b[0;32m~/opt/anaconda3/envs/qiskit-compatible/lib/python3.10/site-packages/qiskit/circuit/parametertable.py:34\u001b[0m, in \u001b[0;36mParameterTable.__init__\u001b[0;34m(self, *args, **kwargs)\u001b[0m\n\u001b[1;32m     32\u001b[0m \u001b[39mself\u001b[39m\u001b[39m.\u001b[39m_table \u001b[39m=\u001b[39m \u001b[39mdict\u001b[39m(\u001b[39m*\u001b[39margs, \u001b[39m*\u001b[39m\u001b[39m*\u001b[39mkwargs)\n\u001b[1;32m     33\u001b[0m \u001b[39mself\u001b[39m\u001b[39m.\u001b[39m_keys \u001b[39m=\u001b[39m \u001b[39mset\u001b[39m(\u001b[39mself\u001b[39m\u001b[39m.\u001b[39m_table)\n\u001b[0;32m---> 34\u001b[0m \u001b[39mself\u001b[39m\u001b[39m.\u001b[39m_names \u001b[39m=\u001b[39m {x\u001b[39m.\u001b[39mname \u001b[39mfor\u001b[39;00m x \u001b[39min\u001b[39;00m \u001b[39mself\u001b[39m\u001b[39m.\u001b[39m_table}\n",
      "File \u001b[0;32m~/opt/anaconda3/envs/qiskit-compatible/lib/python3.10/site-packages/qiskit/circuit/parametertable.py:34\u001b[0m, in \u001b[0;36m<setcomp>\u001b[0;34m(.0)\u001b[0m\n\u001b[1;32m     32\u001b[0m \u001b[39mself\u001b[39m\u001b[39m.\u001b[39m_table \u001b[39m=\u001b[39m \u001b[39mdict\u001b[39m(\u001b[39m*\u001b[39margs, \u001b[39m*\u001b[39m\u001b[39m*\u001b[39mkwargs)\n\u001b[1;32m     33\u001b[0m \u001b[39mself\u001b[39m\u001b[39m.\u001b[39m_keys \u001b[39m=\u001b[39m \u001b[39mset\u001b[39m(\u001b[39mself\u001b[39m\u001b[39m.\u001b[39m_table)\n\u001b[0;32m---> 34\u001b[0m \u001b[39mself\u001b[39m\u001b[39m.\u001b[39m_names \u001b[39m=\u001b[39m {x\u001b[39m.\u001b[39mname \u001b[39mfor\u001b[39;00m x \u001b[39min\u001b[39;00m \u001b[39mself\u001b[39m\u001b[39m.\u001b[39m_table}\n",
      "\u001b[0;31mKeyboardInterrupt\u001b[0m: "
     ]
    },
    {
     "data": {
      "image/png": "[encoded data removed]",
      "text/plain": [
       "<Figure size 640x480 with 1 Axes>"
      ]
     },
     "metadata": {},
     "output_type": "display_data"
    }
   ],
   "source": [
    "fig, legend = plotting.plot_ifid_vs_dt_env()\n",
    "# display.Image(fig)\n",
    "# display.Image(legend)"
   ]
  },
  {
   "attachments": {},
   "cell_type": "markdown",
   "metadata": {},
   "source": [
    "### Fig 5: Optimal time step for the Trotter-Suzuki decomposition"
   ]
  },
  {
   "cell_type": "code",
   "execution_count": null,
   "metadata": {},
   "outputs": [],
   "source": [
    "fig, legend = plotting.plot_ifid_vs_dt_noises()\n",
    "# display.Image(fig)\n",
    "# display.Image(legend)"
   ]
  },
  {
   "cell_type": "code",
   "execution_count": null,
   "metadata": {},
   "outputs": [],
   "source": [
    "fig, legend = plotting.plot_ifid_vs_noise()\n",
    "# display.Image(fig)\n",
    "# display.Image(legend)"
   ]
  },
  {
   "attachments": {},
   "cell_type": "markdown",
   "metadata": {},
   "source": [
    "### Fig 6: Infidelity over time"
   ]
  },
  {
   "cell_type": "code",
   "execution_count": null,
   "metadata": {},
   "outputs": [],
   "source": [
    "fig, legend = plotting.plot_ifid_vs_time()\n",
    "# display.Image(fig)\n",
    "# display.Image(legend)"
   ]
  },
  {
   "attachments": {},
   "cell_type": "markdown",
   "metadata": {},
   "source": [
    "### Fig 7: Effect of the dissipative rate on the infidelity"
   ]
  },
  {
   "cell_type": "code",
   "execution_count": null,
   "metadata": {},
   "outputs": [],
   "source": [
    "fig, legend = plotting.plot_ifid_vs_gamma()\n",
    "# display.Image(fig)\n",
    "# display.Image(legend)"
   ]
  },
  {
   "cell_type": "code",
   "execution_count": null,
   "metadata": {},
   "outputs": [],
   "source": [
    "fig, legend = plotting.plot_ifid_vs_time_gammas()\n",
    "# display.Image(fig)\n",
    "# display.Image(legend)"
   ]
  },
  {
   "attachments": {},
   "cell_type": "markdown",
   "metadata": {},
   "source": [
    "### Fig 8: Single-spin observables"
   ]
  },
  {
   "cell_type": "code",
   "execution_count": null,
   "metadata": {},
   "outputs": [],
   "source": [
    "fig, legend = plotting.plot_bosons(bosons=[4])\n",
    "# display.Image(fig)\n",
    "# display.Image(legend)"
   ]
  },
  {
   "cell_type": "code",
   "execution_count": null,
   "metadata": {},
   "outputs": [],
   "source": [
    "fig, legend = plotting.plot_spin()\n",
    "# display.Image(fig)\n",
    "# display.Image(legend)"
   ]
  },
  {
   "attachments": {},
   "cell_type": "markdown",
   "metadata": {},
   "source": [
    "### Fig 9: Two spin observables"
   ]
  },
  {
   "cell_type": "code",
   "execution_count": null,
   "metadata": {},
   "outputs": [],
   "source": [
    "fig, legend = plotting.plot_spincorrelation()\n",
    "# display.Image(fig)\n",
    "# display.Image(legend)"
   ]
  },
  {
   "attachments": {},
   "cell_type": "markdown",
   "metadata": {},
   "source": [
    "### Fig A1: Qubit connectivity"
   ]
  },
  {
   "cell_type": "code",
   "execution_count": null,
   "metadata": {},
   "outputs": [],
   "source": [
    "from qiskit.visualization import plot_gate_map, plot_circuit_layout\n",
    "from qiskit.providers.fake_provider import FakeJakarta, FakeToronto\n",
    "from qiskit.providers.aer import AerSimulator\n",
    "plot_gate_map(backend=FakeJakarta())"
   ]
  },
  {
   "attachments": {},
   "cell_type": "markdown",
   "metadata": {},
   "source": [
    "### Tab A1: Number of gates"
   ]
  },
  {
   "cell_type": "code",
   "execution_count": null,
   "metadata": {},
   "outputs": [],
   "source": [
    "for h in [H.FRSTORD, H.SCNDORD, H.ISODECOMP]:\n",
    "    for sim in [SSpinBosonSimulation(h=h), DSpinBosonSimulation(h=h)]:\n",
    "        depth, gates, n_single, n_cx = sim.get_gates(sim.backend, initial=True)\n",
    "        print(f'One Trotter step of {sim.model.value}, {sim.h.value} requires {n_single} single-qubit- and {n_cx} CX-Gates.')\n"
   ]
  },
  {
   "attachments": {},
   "cell_type": "markdown",
   "metadata": {},
   "source": [
    "### Fig A2: ADC circuit transpiled onto IBM Jakarta gateset"
   ]
  },
  {
   "cell_type": "code",
   "execution_count": null,
   "metadata": {},
   "outputs": [],
   "source": [
    "sim = TwoLvlSimulation(env=Env.ADC)\n",
    "qc = sim.circuit_example(AerSimulator(), initial=False)\n",
    "print(qc)"
   ]
  },
  {
   "attachments": {},
   "cell_type": "markdown",
   "metadata": {},
   "source": [
    "### Ommited: Circuit for one trotter step transpiled onto IBM Jakarta gateset"
   ]
  },
  {
   "cell_type": "code",
   "execution_count": null,
   "metadata": {},
   "outputs": [],
   "source": [
    "sim = SSpinBosonSimulation()\n",
    "qc = sim.circuit_example(AerSimulator(), initial=False)\n",
    "print(qc)"
   ]
  },
  {
   "cell_type": "code",
   "execution_count": null,
   "metadata": {},
   "outputs": [],
   "source": [
    "sim = DSpinBosonSimulation()\n",
    "qc = sim.circuit_example(AerSimulator(), initial=False)\n",
    "print(qc)"
   ]
  }
 ],
 "metadata": {
  "kernelspec": {
   "display_name": "qiskit-compatible",
   "language": "python",
   "name": "python3"
  },
  "language_info": {
   "codemirror_mode": {
    "name": "ipython",
    "version": 3
   },
   "file_extension": ".py",
   "mimetype": "text/x-python",
   "name": "python",
   "nbconvert_exporter": "python",
   "pygments_lexer": "ipython3",
   "version": "3.10.9"
  },
  "orig_nbformat": 4,
  "vscode": {
   "interpreter": {
    "hash": "1a6fe594b9cfd3d337a7857f6ea0b08a04b7ae06bdaaf32a1fdaf701e815c146"
   }
  }
 },
 "nbformat": 4,
 "nbformat_minor": 2
}
