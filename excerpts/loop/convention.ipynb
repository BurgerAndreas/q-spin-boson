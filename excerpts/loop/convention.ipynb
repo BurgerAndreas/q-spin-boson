{
 "cells": [
  {
   "cell_type": "code",
   "execution_count": null,
   "metadata": {},
   "outputs": [],
   "source": [
    "import numpy as np\n",
    "import math"
   ]
  },
  {
   "cell_type": "code",
   "execution_count": null,
   "metadata": {},
   "outputs": [],
   "source": []
  },
  {
   "cell_type": "code",
   "execution_count": null,
   "metadata": {},
   "outputs": [],
   "source": [
    "n_bos = 3\n",
    "\n",
    "# fermionic operators\n",
    "pz_convention = -1\n",
    "PZ = pz_convention * np.array([[1, 0], [0, -1]]) # Pauli z\n",
    "PX = np.array([[0, 1], [1, 0]])  # Pauli x\n",
    "PY = np.array([[0, -1j], [1j, 0]])  # Pauli y\n",
    "PM = np.array([[0, 1], [0, 0]])  # Pauli minus = |gs><ex|\n",
    "PP = np.array([[0, 0], [1, 0]])  # Pauli plus = |ex><gs|\n",
    "PPPM = np.array([[0, 0], [0, 1]])  # Pauli plus * pauli minus\n",
    "PMPP = np.array([[1, 0], [0, 0]])  # Pauli minus * pauli plus\n",
    "\n",
    "def build_a(n_bos):\n",
    "    a_matrix = np.zeros([n_bos, n_bos])\n",
    "    for n in range(n_bos - 1):\n",
    "        a_matrix[n, n + 1] = math.sqrt(n + 1)\n",
    "    return a_matrix\n",
    "\n",
    "\n",
    "# a dagger\n",
    "def build_ad(n_bos):\n",
    "    ad_matrix = np.zeros([n_bos, n_bos])\n",
    "    for n in range(n_bos - 1):\n",
    "        ad_matrix[n + 1, n] = math.sqrt(n + 1)\n",
    "    return ad_matrix\n",
    "\n",
    "\n",
    "# number operator\n",
    "def build_ada(n_bos):\n",
    "    ada_matrix = np.zeros([n_bos, n_bos])\n",
    "    for n in range(n_bos):\n",
    "        ada_matrix[n, n] = n\n",
    "    return ada_matrix\n",
    "\n",
    "spin_id = np.eye(2)  # identity on spin space\n",
    "boson_id = np.eye(n_bos)  # identity on boson space\n",
    "# build bosonic operators\n",
    "a = build_a(n_bos) # annihilation operator\n",
    "ad = build_ad(n_bos) # creation operator\n",
    "ada = build_ada(n_bos) # number operator\n",
    "q = a + ad"
   ]
  },
  {
   "cell_type": "code",
   "execution_count": null,
   "metadata": {},
   "outputs": [],
   "source": [
    "epsilon = 1\n",
    "omega = 1\n",
    "lambd = 1"
   ]
  },
  {
   "cell_type": "code",
   "execution_count": null,
   "metadata": {},
   "outputs": [],
   "source": [
    "''' Spin-Boson Hamiltonian terms'''\n",
    "term1 = np.kron(PZ, boson_id) * 0.5\n",
    "term2 = np.kron(PX, boson_id) * 0.5 * epsilon\n",
    "term3 = np.kron(spin_id, ada) * omega\n",
    "term4 = np.kron(PX, q) * lambd\n",
    "\n",
    "print('pz term\\n', term1)\n",
    "print('epsilon term\\n', term2)\n",
    "print('omega term\\n', term3)\n",
    "print('lambda term\\n', term4)"
   ]
  },
  {
   "cell_type": "code",
   "execution_count": null,
   "metadata": {},
   "outputs": [],
   "source": [
    "spin_gs = np.array([1, 0])\n",
    "print('Spin ground state', PZ*spin_gs)"
   ]
  },
  {
   "cell_type": "code",
   "execution_count": null,
   "metadata": {},
   "outputs": [],
   "source": [
    "boson_gs = np.array([1, 0, 0])\n",
    "print('Boson ground state', ada*boson_gs)"
   ]
  },
  {
   "cell_type": "code",
   "execution_count": null,
   "metadata": {},
   "outputs": [],
   "source": [
    "initial_state = np.kron(spin_gs, boson_gs)"
   ]
  }
 ],
 "metadata": {
  "language_info": {
   "name": "python"
  },
  "orig_nbformat": 4
 },
 "nbformat": 4,
 "nbformat_minor": 2
}
